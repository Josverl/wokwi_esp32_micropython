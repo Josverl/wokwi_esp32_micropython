{
 "cells": [
  {
   "cell_type": "code",
   "execution_count": 1,
   "metadata": {},
   "outputs": [],
   "source": [
    "from littlefs import LittleFS"
   ]
  },
  {
   "cell_type": "code",
   "execution_count": 5,
   "metadata": {},
   "outputs": [],
   "source": [
    "files = ['/workspaces/main.py']\n",
    "\n",
    "# Put image to output folder, which is symlinked to rp2040js for direct starting\n",
    "output_image = '/workspaces/littlefs.img'\n",
    "\n",
    "lfs = LittleFS(block_size=4096, block_count=512, prog_size=256)\n",
    "\n",
    "for filename in files:\n",
    "    with open(filename, 'rb') as src_file:\n",
    "        with  lfs.open('main.py', 'wb') as lfs_file:\n",
    "            lfs_file.write(src_file.read())\n",
    "\n",
    "with open(output_image, 'wb') as fh:\n",
    "    fh.write(lfs.context.buffer)"
   ]
  },
  {
   "cell_type": "code",
   "execution_count": null,
   "metadata": {},
   "outputs": [],
   "source": []
  }
 ],
 "metadata": {
  "kernelspec": {
   "display_name": "Python 3",
   "language": "python",
   "name": "python3"
  },
  "language_info": {
   "codemirror_mode": {
    "name": "ipython",
    "version": 3
   },
   "file_extension": ".py",
   "mimetype": "text/x-python",
   "name": "python",
   "nbconvert_exporter": "python",
   "pygments_lexer": "ipython3",
   "version": "3.8.10"
  },
  "orig_nbformat": 4
 },
 "nbformat": 4,
 "nbformat_minor": 2
}
